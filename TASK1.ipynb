{
  "nbformat": 4,
  "nbformat_minor": 0,
  "metadata": {
    "colab": {
      "name": "TASK1.ipynb",
      "provenance": []
    },
    "kernelspec": {
      "name": "python3",
      "display_name": "Python 3"
    },
    "language_info": {
      "name": "python"
    }
  },
  "cells": [
    {
      "cell_type": "markdown",
      "metadata": {
        "id": "7foUa_ce1KNn"
      },
      "source": [
        "TIP SEPTEMBER\n",
        "\n",
        "Task 1 Implement Linear regression "
      ]
    },
    {
      "cell_type": "code",
      "metadata": {
        "colab": {
          "base_uri": "https://localhost:8080/"
        },
        "id": "MlasoEijzTAv",
        "outputId": "b9244779-8413-4a80-fea3-a3a271f16c5c"
      },
      "source": [
        "from google.colab import drive\n",
        "drive.mount('/content/drive')"
      ],
      "execution_count": null,
      "outputs": [
        {
          "output_type": "stream",
          "name": "stdout",
          "text": [
            "Mounted at /content/drive\n"
          ]
        }
      ]
    },
    {
      "cell_type": "code",
      "metadata": {
        "colab": {
          "base_uri": "https://localhost:8080/",
          "height": 270
        },
        "id": "ZYP0dM0z04uX",
        "outputId": "825a3148-db11-4229-a407-4092ce567f45"
      },
      "source": [
        "import pandas as pd\n",
        "df = pd.read_csv(\"/content/drive/MyDrive/CO2 Emissions_Canada.csv\")\n",
        "df.head()"
      ],
      "execution_count": null,
      "outputs": [
        {
          "output_type": "execute_result",
          "data": {
            "text/html": [
              "<div>\n",
              "<style scoped>\n",
              "    .dataframe tbody tr th:only-of-type {\n",
              "        vertical-align: middle;\n",
              "    }\n",
              "\n",
              "    .dataframe tbody tr th {\n",
              "        vertical-align: top;\n",
              "    }\n",
              "\n",
              "    .dataframe thead th {\n",
              "        text-align: right;\n",
              "    }\n",
              "</style>\n",
              "<table border=\"1\" class=\"dataframe\">\n",
              "  <thead>\n",
              "    <tr style=\"text-align: right;\">\n",
              "      <th></th>\n",
              "      <th>Make</th>\n",
              "      <th>Model</th>\n",
              "      <th>Vehicle Class</th>\n",
              "      <th>Engine Size(L)</th>\n",
              "      <th>Cylinders</th>\n",
              "      <th>Transmission</th>\n",
              "      <th>Fuel Type</th>\n",
              "      <th>Fuel Consumption City (L/100 km)</th>\n",
              "      <th>Fuel Consumption Hwy (L/100 km)</th>\n",
              "      <th>Fuel Consumption Comb (L/100 km)</th>\n",
              "      <th>Fuel Consumption Comb (mpg)</th>\n",
              "      <th>CO2 Emissions(g/km)</th>\n",
              "    </tr>\n",
              "  </thead>\n",
              "  <tbody>\n",
              "    <tr>\n",
              "      <th>0</th>\n",
              "      <td>ACURA</td>\n",
              "      <td>ILX</td>\n",
              "      <td>COMPACT</td>\n",
              "      <td>2.0</td>\n",
              "      <td>4</td>\n",
              "      <td>AS5</td>\n",
              "      <td>Z</td>\n",
              "      <td>9.9</td>\n",
              "      <td>6.7</td>\n",
              "      <td>8.5</td>\n",
              "      <td>33</td>\n",
              "      <td>196</td>\n",
              "    </tr>\n",
              "    <tr>\n",
              "      <th>1</th>\n",
              "      <td>ACURA</td>\n",
              "      <td>ILX</td>\n",
              "      <td>COMPACT</td>\n",
              "      <td>2.4</td>\n",
              "      <td>4</td>\n",
              "      <td>M6</td>\n",
              "      <td>Z</td>\n",
              "      <td>11.2</td>\n",
              "      <td>7.7</td>\n",
              "      <td>9.6</td>\n",
              "      <td>29</td>\n",
              "      <td>221</td>\n",
              "    </tr>\n",
              "    <tr>\n",
              "      <th>2</th>\n",
              "      <td>ACURA</td>\n",
              "      <td>ILX HYBRID</td>\n",
              "      <td>COMPACT</td>\n",
              "      <td>1.5</td>\n",
              "      <td>4</td>\n",
              "      <td>AV7</td>\n",
              "      <td>Z</td>\n",
              "      <td>6.0</td>\n",
              "      <td>5.8</td>\n",
              "      <td>5.9</td>\n",
              "      <td>48</td>\n",
              "      <td>136</td>\n",
              "    </tr>\n",
              "    <tr>\n",
              "      <th>3</th>\n",
              "      <td>ACURA</td>\n",
              "      <td>MDX 4WD</td>\n",
              "      <td>SUV - SMALL</td>\n",
              "      <td>3.5</td>\n",
              "      <td>6</td>\n",
              "      <td>AS6</td>\n",
              "      <td>Z</td>\n",
              "      <td>12.7</td>\n",
              "      <td>9.1</td>\n",
              "      <td>11.1</td>\n",
              "      <td>25</td>\n",
              "      <td>255</td>\n",
              "    </tr>\n",
              "    <tr>\n",
              "      <th>4</th>\n",
              "      <td>ACURA</td>\n",
              "      <td>RDX AWD</td>\n",
              "      <td>SUV - SMALL</td>\n",
              "      <td>3.5</td>\n",
              "      <td>6</td>\n",
              "      <td>AS6</td>\n",
              "      <td>Z</td>\n",
              "      <td>12.1</td>\n",
              "      <td>8.7</td>\n",
              "      <td>10.6</td>\n",
              "      <td>27</td>\n",
              "      <td>244</td>\n",
              "    </tr>\n",
              "  </tbody>\n",
              "</table>\n",
              "</div>"
            ],
            "text/plain": [
              "    Make       Model  ... Fuel Consumption Comb (mpg)  CO2 Emissions(g/km)\n",
              "0  ACURA         ILX  ...                          33                  196\n",
              "1  ACURA         ILX  ...                          29                  221\n",
              "2  ACURA  ILX HYBRID  ...                          48                  136\n",
              "3  ACURA     MDX 4WD  ...                          25                  255\n",
              "4  ACURA     RDX AWD  ...                          27                  244\n",
              "\n",
              "[5 rows x 12 columns]"
            ]
          },
          "metadata": {},
          "execution_count": 10
        }
      ]
    },
    {
      "cell_type": "code",
      "metadata": {
        "colab": {
          "base_uri": "https://localhost:8080/"
        },
        "id": "y9GAiJRo1IYP",
        "outputId": "8eab039f-aa2e-49f0-ad4b-d2404a377d95"
      },
      "source": [
        "df.info()\n"
      ],
      "execution_count": null,
      "outputs": [
        {
          "output_type": "stream",
          "name": "stdout",
          "text": [
            "<class 'pandas.core.frame.DataFrame'>\n",
            "RangeIndex: 7385 entries, 0 to 7384\n",
            "Data columns (total 12 columns):\n",
            " #   Column                            Non-Null Count  Dtype  \n",
            "---  ------                            --------------  -----  \n",
            " 0   Make                              7385 non-null   object \n",
            " 1   Model                             7385 non-null   object \n",
            " 2   Vehicle Class                     7385 non-null   object \n",
            " 3   Engine Size(L)                    7385 non-null   float64\n",
            " 4   Cylinders                         7385 non-null   int64  \n",
            " 5   Transmission                      7385 non-null   object \n",
            " 6   Fuel Type                         7385 non-null   object \n",
            " 7   Fuel Consumption City (L/100 km)  7385 non-null   float64\n",
            " 8   Fuel Consumption Hwy (L/100 km)   7385 non-null   float64\n",
            " 9   Fuel Consumption Comb (L/100 km)  7385 non-null   float64\n",
            " 10  Fuel Consumption Comb (mpg)       7385 non-null   int64  \n",
            " 11  CO2 Emissions(g/km)               7385 non-null   int64  \n",
            "dtypes: float64(4), int64(3), object(5)\n",
            "memory usage: 692.5+ KB\n"
          ]
        }
      ]
    },
    {
      "cell_type": "code",
      "metadata": {
        "colab": {
          "base_uri": "https://localhost:8080/",
          "height": 312
        },
        "id": "mCY85Twi1VhW",
        "outputId": "37eba813-7340-4996-de97-0b154bff476c"
      },
      "source": [
        "df.describe()"
      ],
      "execution_count": null,
      "outputs": [
        {
          "output_type": "execute_result",
          "data": {
            "text/html": [
              "<div>\n",
              "<style scoped>\n",
              "    .dataframe tbody tr th:only-of-type {\n",
              "        vertical-align: middle;\n",
              "    }\n",
              "\n",
              "    .dataframe tbody tr th {\n",
              "        vertical-align: top;\n",
              "    }\n",
              "\n",
              "    .dataframe thead th {\n",
              "        text-align: right;\n",
              "    }\n",
              "</style>\n",
              "<table border=\"1\" class=\"dataframe\">\n",
              "  <thead>\n",
              "    <tr style=\"text-align: right;\">\n",
              "      <th></th>\n",
              "      <th>Engine Size(L)</th>\n",
              "      <th>Cylinders</th>\n",
              "      <th>Fuel Consumption City (L/100 km)</th>\n",
              "      <th>Fuel Consumption Hwy (L/100 km)</th>\n",
              "      <th>Fuel Consumption Comb (L/100 km)</th>\n",
              "      <th>Fuel Consumption Comb (mpg)</th>\n",
              "      <th>CO2 Emissions(g/km)</th>\n",
              "    </tr>\n",
              "  </thead>\n",
              "  <tbody>\n",
              "    <tr>\n",
              "      <th>count</th>\n",
              "      <td>7385.000000</td>\n",
              "      <td>7385.000000</td>\n",
              "      <td>7385.000000</td>\n",
              "      <td>7385.000000</td>\n",
              "      <td>7385.000000</td>\n",
              "      <td>7385.000000</td>\n",
              "      <td>7385.000000</td>\n",
              "    </tr>\n",
              "    <tr>\n",
              "      <th>mean</th>\n",
              "      <td>3.160068</td>\n",
              "      <td>5.615030</td>\n",
              "      <td>12.556534</td>\n",
              "      <td>9.041706</td>\n",
              "      <td>10.975071</td>\n",
              "      <td>27.481652</td>\n",
              "      <td>250.584699</td>\n",
              "    </tr>\n",
              "    <tr>\n",
              "      <th>std</th>\n",
              "      <td>1.354170</td>\n",
              "      <td>1.828307</td>\n",
              "      <td>3.500274</td>\n",
              "      <td>2.224456</td>\n",
              "      <td>2.892506</td>\n",
              "      <td>7.231879</td>\n",
              "      <td>58.512679</td>\n",
              "    </tr>\n",
              "    <tr>\n",
              "      <th>min</th>\n",
              "      <td>0.900000</td>\n",
              "      <td>3.000000</td>\n",
              "      <td>4.200000</td>\n",
              "      <td>4.000000</td>\n",
              "      <td>4.100000</td>\n",
              "      <td>11.000000</td>\n",
              "      <td>96.000000</td>\n",
              "    </tr>\n",
              "    <tr>\n",
              "      <th>25%</th>\n",
              "      <td>2.000000</td>\n",
              "      <td>4.000000</td>\n",
              "      <td>10.100000</td>\n",
              "      <td>7.500000</td>\n",
              "      <td>8.900000</td>\n",
              "      <td>22.000000</td>\n",
              "      <td>208.000000</td>\n",
              "    </tr>\n",
              "    <tr>\n",
              "      <th>50%</th>\n",
              "      <td>3.000000</td>\n",
              "      <td>6.000000</td>\n",
              "      <td>12.100000</td>\n",
              "      <td>8.700000</td>\n",
              "      <td>10.600000</td>\n",
              "      <td>27.000000</td>\n",
              "      <td>246.000000</td>\n",
              "    </tr>\n",
              "    <tr>\n",
              "      <th>75%</th>\n",
              "      <td>3.700000</td>\n",
              "      <td>6.000000</td>\n",
              "      <td>14.600000</td>\n",
              "      <td>10.200000</td>\n",
              "      <td>12.600000</td>\n",
              "      <td>32.000000</td>\n",
              "      <td>288.000000</td>\n",
              "    </tr>\n",
              "    <tr>\n",
              "      <th>max</th>\n",
              "      <td>8.400000</td>\n",
              "      <td>16.000000</td>\n",
              "      <td>30.600000</td>\n",
              "      <td>20.600000</td>\n",
              "      <td>26.100000</td>\n",
              "      <td>69.000000</td>\n",
              "      <td>522.000000</td>\n",
              "    </tr>\n",
              "  </tbody>\n",
              "</table>\n",
              "</div>"
            ],
            "text/plain": [
              "       Engine Size(L)  ...  CO2 Emissions(g/km)\n",
              "count     7385.000000  ...          7385.000000\n",
              "mean         3.160068  ...           250.584699\n",
              "std          1.354170  ...            58.512679\n",
              "min          0.900000  ...            96.000000\n",
              "25%          2.000000  ...           208.000000\n",
              "50%          3.000000  ...           246.000000\n",
              "75%          3.700000  ...           288.000000\n",
              "max          8.400000  ...           522.000000\n",
              "\n",
              "[8 rows x 7 columns]"
            ]
          },
          "metadata": {},
          "execution_count": 12
        }
      ]
    },
    {
      "cell_type": "code",
      "metadata": {
        "id": "pR-Idx8z1YMA"
      },
      "source": [
        "import numpy as np\n",
        "import matplotlib.pyplot as plt\n",
        "from sklearn import linear_model\n"
      ],
      "execution_count": null,
      "outputs": []
    },
    {
      "cell_type": "code",
      "metadata": {
        "colab": {
          "base_uri": "https://localhost:8080/",
          "height": 312
        },
        "id": "gZFQkqQsRUNI",
        "outputId": "57e7e00d-8d01-4e7b-ff44-f8569feef7c6"
      },
      "source": [
        "#matplotlib inline\n",
        "plt.xlabel('Engine Size(L)')\n",
        "plt.ylabel('CO2 Emissions(g/km)')\n",
        "plt.title('Engine Size(L) vs CO2 Emissions(g/km)')\n",
        "x_axis=df[\"Engine Size(L)\"]\n",
        "y_axis=df[\"CO2 Emissions(g/km)\"]\n",
        "plt.scatter(x_axis,y_axis,color='red')"
      ],
      "execution_count": null,
      "outputs": [
        {
          "output_type": "execute_result",
          "data": {
            "text/plain": [
              "<matplotlib.collections.PathCollection at 0x7f42af697f50>"
            ]
          },
          "metadata": {},
          "execution_count": 23
        },
        {
          "output_type": "display_data",
          "data": {
            "image/png": "[encoded data removed]",
            "text/plain": [
              "<Figure size 432x288 with 1 Axes>"
            ]
          },
          "metadata": {
            "needs_background": "light"
          }
        }
      ]
    },
    {
      "cell_type": "code",
      "metadata": {
        "colab": {
          "base_uri": "https://localhost:8080/",
          "height": 110
        },
        "id": "S7vVjSevTrPQ",
        "outputId": "142ea5e8-1548-4a19-8205-12412c0d9736"
      },
      "source": [
        "#checking the relationship between Engine Size and CO2 Emissions by correlation spearman method\n",
        "x1 = df.iloc[:,3]\n",
        "x2= df.iloc[:,11] # or [:,-1]\n",
        "c_data=pd.concat([x1,x2],axis=1)\n",
        "c_data.corr(method=\"spearman\")"
      ],
      "execution_count": null,
      "outputs": [
        {
          "output_type": "execute_result",
          "data": {
            "text/html": [
              "<div>\n",
              "<style scoped>\n",
              "    .dataframe tbody tr th:only-of-type {\n",
              "        vertical-align: middle;\n",
              "    }\n",
              "\n",
              "    .dataframe tbody tr th {\n",
              "        vertical-align: top;\n",
              "    }\n",
              "\n",
              "    .dataframe thead th {\n",
              "        text-align: right;\n",
              "    }\n",
              "</style>\n",
              "<table border=\"1\" class=\"dataframe\">\n",
              "  <thead>\n",
              "    <tr style=\"text-align: right;\">\n",
              "      <th></th>\n",
              "      <th>Engine Size(L)</th>\n",
              "      <th>CO2 Emissions(g/km)</th>\n",
              "    </tr>\n",
              "  </thead>\n",
              "  <tbody>\n",
              "    <tr>\n",
              "      <th>Engine Size(L)</th>\n",
              "      <td>1.000000</td>\n",
              "      <td>0.869129</td>\n",
              "    </tr>\n",
              "    <tr>\n",
              "      <th>CO2 Emissions(g/km)</th>\n",
              "      <td>0.869129</td>\n",
              "      <td>1.000000</td>\n",
              "    </tr>\n",
              "  </tbody>\n",
              "</table>\n",
              "</div>"
            ],
            "text/plain": [
              "                     Engine Size(L)  CO2 Emissions(g/km)\n",
              "Engine Size(L)             1.000000             0.869129\n",
              "CO2 Emissions(g/km)        0.869129             1.000000"
            ]
          },
          "metadata": {},
          "execution_count": 27
        }
      ]
    },
    {
      "cell_type": "code",
      "metadata": {
        "id": "3eNlEn70VZhi"
      },
      "source": [
        "#preparing the data for model development\n",
        "x=df[\"Engine Size(L)\"].values # independant variable\n",
        "y=df[\"CO2 Emissions(g/km)\"].values # dependent variable"
      ],
      "execution_count": null,
      "outputs": []
    },
    {
      "cell_type": "code",
      "metadata": {
        "colab": {
          "base_uri": "https://localhost:8080/"
        },
        "id": "4STE7imjVhlH",
        "outputId": "f297a5a9-6ab3-4ceb-dd34-e87b58d4104f"
      },
      "source": [
        "x = x.reshape(-1,1)\n",
        "y = y.reshape(-1,1)\n",
        "print(x)\n",
        "print(y)"
      ],
      "execution_count": null,
      "outputs": [
        {
          "output_type": "stream",
          "name": "stdout",
          "text": [
            "[[2. ]\n",
            " [2.4]\n",
            " [1.5]\n",
            " ...\n",
            " [2. ]\n",
            " [2. ]\n",
            " [2. ]]\n",
            "[[196]\n",
            " [221]\n",
            " [136]\n",
            " ...\n",
            " [240]\n",
            " [232]\n",
            " [248]]\n"
          ]
        }
      ]
    },
    {
      "cell_type": "code",
      "metadata": {
        "id": "TnmZFWksVmyh"
      },
      "source": [
        "#split the data for train and test\n",
        "from sklearn.model_selection import train_test_split\n",
        "x_train,x_test,y_train,y_test = train_test_split(x,y,test_size = 0.25,random_state=0)"
      ],
      "execution_count": null,
      "outputs": []
    },
    {
      "cell_type": "code",
      "metadata": {
        "id": "SAmfJEbZVqhw"
      },
      "source": [
        "from sklearn.linear_model import LinearRegression\n",
        "model = LinearRegression()"
      ],
      "execution_count": null,
      "outputs": []
    },
    {
      "cell_type": "code",
      "metadata": {
        "colab": {
          "base_uri": "https://localhost:8080/"
        },
        "id": "8_XberEmVtxy",
        "outputId": "bd843829-51c6-4906-d668-3219c34a0181"
      },
      "source": [
        "model.fit(x_train,y_train)"
      ],
      "execution_count": null,
      "outputs": [
        {
          "output_type": "execute_result",
          "data": {
            "text/plain": [
              "LinearRegression(copy_X=True, fit_intercept=True, n_jobs=None, normalize=False)"
            ]
          },
          "metadata": {},
          "execution_count": 33
        }
      ]
    },
    {
      "cell_type": "code",
      "metadata": {
        "id": "f7-EPhdCVwvf"
      },
      "source": [
        "y_pred = model.predict(x_test)"
      ],
      "execution_count": null,
      "outputs": []
    },
    {
      "cell_type": "code",
      "metadata": {
        "colab": {
          "base_uri": "https://localhost:8080/",
          "height": 417
        },
        "id": "py6TlPOgVw3j",
        "outputId": "9f1a0f22-5000-46f4-fac3-06745e34b400"
      },
      "source": [
        "\n",
        "y_pred = pd.DataFrame(y_pred)\n",
        "df = pd.DataFrame(y_test)\n",
        "df1=pd.concat([y_pred,df],axis=1)\n",
        "df1.columns=[\"predicted\",\"Actual\"]\n",
        "df1"
      ],
      "execution_count": null,
      "outputs": [
        {
          "output_type": "execute_result",
          "data": {
            "text/html": [
              "<div>\n",
              "<style scoped>\n",
              "    .dataframe tbody tr th:only-of-type {\n",
              "        vertical-align: middle;\n",
              "    }\n",
              "\n",
              "    .dataframe tbody tr th {\n",
              "        vertical-align: top;\n",
              "    }\n",
              "\n",
              "    .dataframe thead th {\n",
              "        text-align: right;\n",
              "    }\n",
              "</style>\n",
              "<table border=\"1\" class=\"dataframe\">\n",
              "  <thead>\n",
              "    <tr style=\"text-align: right;\">\n",
              "      <th></th>\n",
              "      <th>predicted</th>\n",
              "      <th>Actual</th>\n",
              "    </tr>\n",
              "  </thead>\n",
              "  <tbody>\n",
              "    <tr>\n",
              "      <th>0</th>\n",
              "      <td>244.630717</td>\n",
              "      <td>241</td>\n",
              "    </tr>\n",
              "    <tr>\n",
              "      <th>1</th>\n",
              "      <td>207.957399</td>\n",
              "      <td>229</td>\n",
              "    </tr>\n",
              "    <tr>\n",
              "      <th>2</th>\n",
              "      <td>273.969371</td>\n",
              "      <td>253</td>\n",
              "    </tr>\n",
              "    <tr>\n",
              "      <th>3</th>\n",
              "      <td>226.294058</td>\n",
              "      <td>183</td>\n",
              "    </tr>\n",
              "    <tr>\n",
              "      <th>4</th>\n",
              "      <td>244.630717</td>\n",
              "      <td>231</td>\n",
              "    </tr>\n",
              "    <tr>\n",
              "      <th>...</th>\n",
              "      <td>...</td>\n",
              "      <td>...</td>\n",
              "    </tr>\n",
              "    <tr>\n",
              "      <th>1842</th>\n",
              "      <td>222.626726</td>\n",
              "      <td>199</td>\n",
              "    </tr>\n",
              "    <tr>\n",
              "      <th>1843</th>\n",
              "      <td>207.957399</td>\n",
              "      <td>118</td>\n",
              "    </tr>\n",
              "    <tr>\n",
              "      <th>1844</th>\n",
              "      <td>339.981343</td>\n",
              "      <td>315</td>\n",
              "    </tr>\n",
              "    <tr>\n",
              "      <th>1845</th>\n",
              "      <td>255.632712</td>\n",
              "      <td>276</td>\n",
              "    </tr>\n",
              "    <tr>\n",
              "      <th>1846</th>\n",
              "      <td>226.294058</td>\n",
              "      <td>243</td>\n",
              "    </tr>\n",
              "  </tbody>\n",
              "</table>\n",
              "<p>1847 rows × 2 columns</p>\n",
              "</div>"
            ],
            "text/plain": [
              "       predicted  Actual\n",
              "0     244.630717     241\n",
              "1     207.957399     229\n",
              "2     273.969371     253\n",
              "3     226.294058     183\n",
              "4     244.630717     231\n",
              "...          ...     ...\n",
              "1842  222.626726     199\n",
              "1843  207.957399     118\n",
              "1844  339.981343     315\n",
              "1845  255.632712     276\n",
              "1846  226.294058     243\n",
              "\n",
              "[1847 rows x 2 columns]"
            ]
          },
          "metadata": {},
          "execution_count": 35
        }
      ]
    },
    {
      "cell_type": "code",
      "metadata": {
        "colab": {
          "base_uri": "https://localhost:8080/",
          "height": 404
        },
        "id": "Bf76QGkrV7PY",
        "outputId": "181242a8-3416-4f43-f215-60e1fe3420f2"
      },
      "source": [
        "#plot the regression line and data\n",
        "line = model.coef_*x+model.intercept_\n",
        "plt.figure(figsize=(12,6))\n",
        "plt.scatter(x_axis,y_axis,color='red')\n",
        "plt.plot(x,line)\n",
        "plt.title(\"Engine Size(L) vs CO2 Emissions(g/km)\")\n",
        "plt.xlabel(\"Engine Size(L)\")\n",
        "plt.ylabel(\"CO2 Emissions(g/km)\")\n",
        "plt.grid()\n",
        "plt.show()"
      ],
      "execution_count": null,
      "outputs": [
        {
          "output_type": "display_data",
          "data": {
            "image/png": "[encoded data removed]",
            "text/plain": [
              "<Figure size 864x432 with 1 Axes>"
            ]
          },
          "metadata": {
            "needs_background": "light"
          }
        }
      ]
    },
    {
      "cell_type": "code",
      "metadata": {
        "colab": {
          "base_uri": "https://localhost:8080/"
        },
        "id": "84UNrTM5WjkQ",
        "outputId": "be2cb600-0c19-43b6-dc4f-38a3ec374983"
      },
      "source": [
        "print(\"Traing Score {}\".format(model.score(x_train,y_train)))"
      ],
      "execution_count": null,
      "outputs": [
        {
          "output_type": "stream",
          "name": "stdout",
          "text": [
            "Traing Score 0.7238653407342331\n"
          ]
        }
      ]
    },
    {
      "cell_type": "code",
      "metadata": {
        "colab": {
          "base_uri": "https://localhost:8080/"
        },
        "id": "VcfN8Z1ZWoRs",
        "outputId": "70e39bd5-00db-4b6c-9d1c-41091b1dc0b7"
      },
      "source": [
        "#Evaluationg the model\n",
        "from sklearn.metrics import mean_absolute_error\n",
        "from sklearn.metrics import mean_squared_error\n",
        "from sklearn.metrics import r2_score\n",
        "import math\n",
        "\n",
        "MAE = mean_absolute_error(y_test,y_pred)\n",
        "MSE = mean_squared_error(y_test,y_pred)\n",
        "RMSE = math.sqrt(MSE)\n",
        "r2=r2_score(y_test,y_pred)\n",
        "\n",
        "print(\"Mean Absolute Error {}\".format(MAE))\n",
        "#print(\"\\n\")\n",
        "print(\"Mean Squared Error {}\".format(MSE))\n",
        "#print(\"\\n\")\n",
        "print(\"Root Mean Squared Error {}\".format(RMSE))\n",
        "#print(\"\\n\")\n",
        "print(\"R2 Score {}\".format(r2))"
      ],
      "execution_count": null,
      "outputs": [
        {
          "output_type": "stream",
          "name": "stdout",
          "text": [
            "Mean Absolute Error 23.278811916762198\n",
            "Mean Squared Error 945.22850175014\n",
            "Root Mean Squared Error 30.74456865448172\n",
            "R2 Score 0.7260943102240828\n"
          ]
        }
      ]
    },
    {
      "cell_type": "markdown",
      "metadata": {
        "id": "7WVN_QIfWqZn"
      },
      "source": [
        "The model has been created and the MAS,MSE,RMSE and R2 Score has been evaluted.\n",
        "Thank You!"
      ]
    }
  ]
}